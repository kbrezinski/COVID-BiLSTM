{
 "cells": [
  {
   "cell_type": "code",
   "execution_count": 1,
   "metadata": {},
   "outputs": [
    {
     "name": "stdout",
     "output_type": "stream",
     "text": [
      "Author: Kenneth Brezinski\n",
      "\n",
      "Python implementation: CPython\n",
      "Python version       : 3.9.10\n",
      "IPython version      : 8.0.1\n",
      "\n"
     ]
    }
   ],
   "source": [
    "%load_ext autoreload\n",
    "%autoreload 2\n",
    "%load_ext watermark\n",
    "%watermark -a \"Kenneth Brezinski\" -v"
   ]
  },
  {
   "cell_type": "code",
   "execution_count": 2,
   "metadata": {},
   "outputs": [
    {
     "name": "stdout",
     "output_type": "stream",
     "text": [
      "numpy     : 1.22.2\n",
      "matplotlib: 3.5.1\n",
      "pandas    : 1.4.1\n",
      "\n"
     ]
    }
   ],
   "source": [
    "import numpy as np\n",
    "import pandas as pd\n",
    "\n",
    "import matplotlib.pyplot as plt\n",
    "%watermark --iversions"
   ]
  },
  {
   "cell_type": "code",
   "execution_count": 3,
   "metadata": {},
   "outputs": [
    {
     "data": {
      "text/html": [
       "<div>\n",
       "<style scoped>\n",
       "    .dataframe tbody tr th:only-of-type {\n",
       "        vertical-align: middle;\n",
       "    }\n",
       "\n",
       "    .dataframe tbody tr th {\n",
       "        vertical-align: top;\n",
       "    }\n",
       "\n",
       "    .dataframe thead th {\n",
       "        text-align: right;\n",
       "    }\n",
       "</style>\n",
       "<table border=\"1\" class=\"dataframe\">\n",
       "  <thead>\n",
       "    <tr style=\"text-align: right;\">\n",
       "      <th></th>\n",
       "      <th>date</th>\n",
       "      <th>location_key</th>\n",
       "      <th>mobility_retail_and_recreation</th>\n",
       "      <th>mobility_grocery_and_pharmacy</th>\n",
       "      <th>mobility_parks</th>\n",
       "      <th>mobility_transit_stations</th>\n",
       "      <th>mobility_workplaces</th>\n",
       "      <th>mobility_residential</th>\n",
       "    </tr>\n",
       "  </thead>\n",
       "  <tbody>\n",
       "    <tr>\n",
       "      <th>0</th>\n",
       "      <td>2020-02-15</td>\n",
       "      <td>AB</td>\n",
       "      <td>7.0</td>\n",
       "      <td>3.0</td>\n",
       "      <td>24.0</td>\n",
       "      <td>7.0</td>\n",
       "      <td>-2.0</td>\n",
       "      <td>-1.0</td>\n",
       "    </tr>\n",
       "    <tr>\n",
       "      <th>1</th>\n",
       "      <td>2020-02-16</td>\n",
       "      <td>AB</td>\n",
       "      <td>10.0</td>\n",
       "      <td>-2.0</td>\n",
       "      <td>28.0</td>\n",
       "      <td>3.0</td>\n",
       "      <td>-3.0</td>\n",
       "      <td>-2.0</td>\n",
       "    </tr>\n",
       "    <tr>\n",
       "      <th>2</th>\n",
       "      <td>2020-02-17</td>\n",
       "      <td>AB</td>\n",
       "      <td>-7.0</td>\n",
       "      <td>-2.0</td>\n",
       "      <td>10.0</td>\n",
       "      <td>-40.0</td>\n",
       "      <td>-67.0</td>\n",
       "      <td>15.0</td>\n",
       "    </tr>\n",
       "    <tr>\n",
       "      <th>3</th>\n",
       "      <td>2020-02-18</td>\n",
       "      <td>AB</td>\n",
       "      <td>-1.0</td>\n",
       "      <td>1.0</td>\n",
       "      <td>-2.0</td>\n",
       "      <td>-9.0</td>\n",
       "      <td>-5.0</td>\n",
       "      <td>2.0</td>\n",
       "    </tr>\n",
       "    <tr>\n",
       "      <th>4</th>\n",
       "      <td>2020-02-19</td>\n",
       "      <td>AB</td>\n",
       "      <td>3.0</td>\n",
       "      <td>4.0</td>\n",
       "      <td>21.0</td>\n",
       "      <td>-7.0</td>\n",
       "      <td>-1.0</td>\n",
       "      <td>1.0</td>\n",
       "    </tr>\n",
       "  </tbody>\n",
       "</table>\n",
       "</div>"
      ],
      "text/plain": [
       "         date location_key  mobility_retail_and_recreation  \\\n",
       "0  2020-02-15           AB                             7.0   \n",
       "1  2020-02-16           AB                            10.0   \n",
       "2  2020-02-17           AB                            -7.0   \n",
       "3  2020-02-18           AB                            -1.0   \n",
       "4  2020-02-19           AB                             3.0   \n",
       "\n",
       "   mobility_grocery_and_pharmacy  mobility_parks  mobility_transit_stations  \\\n",
       "0                            3.0            24.0                        7.0   \n",
       "1                           -2.0            28.0                        3.0   \n",
       "2                           -2.0            10.0                      -40.0   \n",
       "3                            1.0            -2.0                       -9.0   \n",
       "4                            4.0            21.0                       -7.0   \n",
       "\n",
       "   mobility_workplaces  mobility_residential  \n",
       "0                 -2.0                  -1.0  \n",
       "1                 -3.0                  -2.0  \n",
       "2                -67.0                  15.0  \n",
       "3                 -5.0                   2.0  \n",
       "4                 -1.0                   1.0  "
      ]
     },
     "execution_count": 3,
     "metadata": {},
     "output_type": "execute_result"
    }
   ],
   "source": [
    "## workplace retail and transit?\n",
    "df = pd.read_csv('data/CAN-mobility.csv')\n",
    "df.head()"
   ]
  },
  {
   "cell_type": "code",
   "execution_count": 5,
   "metadata": {},
   "outputs": [
    {
     "data": {
      "text/plain": [
       "array(['AB', 'BC', 'MB', 'NB', 'NL', 'NS', 'NT', 'NU', 'ON', 'PE', 'QC',\n",
       "       'SK', 'YT'], dtype=object)"
      ]
     },
     "execution_count": 5,
     "metadata": {},
     "output_type": "execute_result"
    }
   ],
   "source": [
    "## only categroized by provinces, not subregions\n",
    "df['location_key'].unique()"
   ]
  },
  {
   "cell_type": "code",
   "execution_count": 6,
   "metadata": {},
   "outputs": [
    {
     "name": "stdout",
     "output_type": "stream",
     "text": [
      "MB:mobility_parks: 26 missing\n",
      "NB:mobility_parks: 76 missing\n",
      "NB:mobility_transit_stations: 28 missing\n",
      "NL:mobility_retail_and_recreation: 3 missing\n",
      "NL:mobility_grocery_and_pharmacy: 20 missing\n",
      "NL:mobility_parks: 113 missing\n",
      "NL:mobility_transit_stations: 105 missing\n",
      "NL:mobility_workplaces: 3 missing\n",
      "NS:mobility_parks: 60 missing\n",
      "NS:mobility_transit_stations: 3 missing\n",
      "NT:mobility_retail_and_recreation: 70 missing\n",
      "NT:mobility_grocery_and_pharmacy: 591 missing\n",
      "NT:mobility_parks: 692 missing\n",
      "NT:mobility_transit_stations: 120 missing\n",
      "NT:mobility_workplaces: 6 missing\n",
      "NT:mobility_residential: 692 missing\n",
      "NU:mobility_retail_and_recreation: 544 missing\n",
      "NU:mobility_grocery_and_pharmacy: 575 missing\n",
      "NU:mobility_parks: 575 missing\n",
      "NU:mobility_transit_stations: 575 missing\n",
      "NU:mobility_workplaces: 6 missing\n",
      "NU:mobility_residential: 575 missing\n",
      "PE:mobility_retail_and_recreation: 20 missing\n",
      "PE:mobility_grocery_and_pharmacy: 20 missing\n",
      "PE:mobility_parks: 702 missing\n",
      "PE:mobility_transit_stations: 712 missing\n",
      "PE:mobility_workplaces: 1 missing\n",
      "PE:mobility_residential: 57 missing\n",
      "SK:mobility_parks: 31 missing\n",
      "SK:mobility_transit_stations: 6 missing\n",
      "YT:mobility_retail_and_recreation: 32 missing\n",
      "YT:mobility_grocery_and_pharmacy: 611 missing\n",
      "YT:mobility_parks: 662 missing\n",
      "YT:mobility_transit_stations: 662 missing\n",
      "YT:mobility_workplaces: 94 missing\n",
      "YT:mobility_residential: 662 missing\n"
     ]
    }
   ],
   "source": [
    "# sanity check to check which columns have missing elements\n",
    "# all of them are in provinces not if interest\n",
    "\n",
    "# loop through provinces\n",
    "for province in df['location_key'].unique():\n",
    "    \n",
    "    # fetch provincial data\n",
    "    tmp = df[df['location_key'] == province]\n",
    "    \n",
    "    # loop through mobility metrics\n",
    "    for metric in tmp.columns:\n",
    "        # check if column has missing data\n",
    "        if tmp[metric].isnull().sum() == 0:   \n",
    "            continue\n",
    "        # print missing occurances\n",
    "        print(f\"{province}:{metric}: {tmp[metric].isnull().sum()} missing\")   "
   ]
  },
  {
   "cell_type": "code",
   "execution_count": 9,
   "metadata": {},
   "outputs": [
    {
     "data": {
      "image/png": "[encoded data removed]",
      "text/plain": [
       "<Figure size 432x288 with 1 Axes>"
      ]
     },
     "metadata": {
      "needs_background": "light"
     },
     "output_type": "display_data"
    }
   ],
   "source": [
    "from sklearn.pipeline import Pipeline\n",
    "from sklearn.impute import KNNImputer\n",
    "from sklearn.preprocessing import StandardScaler\n",
    "\n",
    "## performs quite well; better to just stick to StandardScalar\n",
    "X = df[df['location_key'] == 'ON'].iloc[:, 2:]\n",
    "\n",
    "pipe = Pipeline([('scaler', StandardScaler()),\n",
    "                 ('knn', KNNImputer(n_neighbors=5, weights=\"distance\"))])\n",
    "trans = pipe.fit_transform(X)\n",
    "\n",
    "plt.plot(trans)\n",
    "plt.show()"
   ]
  },
  {
   "cell_type": "code",
   "execution_count": null,
   "metadata": {},
   "outputs": [],
   "source": []
  }
 ],
 "metadata": {
  "kernelspec": {
   "display_name": "Python [conda env:py39]",
   "language": "python",
   "name": "conda-env-py39-py"
  },
  "language_info": {
   "codemirror_mode": {
    "name": "ipython",
    "version": 3
   },
   "file_extension": ".py",
   "mimetype": "text/x-python",
   "name": "python",
   "nbconvert_exporter": "python",
   "pygments_lexer": "ipython3",
   "version": "3.9.10"
  }
 },
 "nbformat": 4,
 "nbformat_minor": 4
}
