{
 "cells": [
  {
   "cell_type": "code",
   "execution_count": 1,
   "metadata": {},
   "outputs": [
    {
     "name": "stdout",
     "output_type": "stream",
     "text": [
      "Author: Kenneth Brezinski\n",
      "\n",
      "Python implementation: CPython\n",
      "Python version       : 3.9.10\n",
      "IPython version      : 8.0.1\n",
      "\n"
     ]
    }
   ],
   "source": [
    "%load_ext autoreload\n",
    "%autoreload 2\n",
    "%load_ext watermark\n",
    "%watermark -a \"Kenneth Brezinski\" -v"
   ]
  },
  {
   "cell_type": "code",
   "execution_count": 2,
   "metadata": {},
   "outputs": [
    {
     "name": "stdout",
     "output_type": "stream",
     "text": [
      "numpy     : 1.22.2\n",
      "matplotlib: 3.5.1\n",
      "pandas    : 1.4.1\n",
      "\n"
     ]
    }
   ],
   "source": [
    "import numpy as np\n",
    "import pandas as pd\n",
    "\n",
    "import matplotlib.pyplot as plt\n",
    "%watermark --iversions"
   ]
  },
  {
   "cell_type": "code",
   "execution_count": 10,
   "metadata": {},
   "outputs": [
    {
     "data": {
      "text/html": [
       "<div>\n",
       "<style scoped>\n",
       "    .dataframe tbody tr th:only-of-type {\n",
       "        vertical-align: middle;\n",
       "    }\n",
       "\n",
       "    .dataframe tbody tr th {\n",
       "        vertical-align: top;\n",
       "    }\n",
       "\n",
       "    .dataframe thead th {\n",
       "        text-align: right;\n",
       "    }\n",
       "</style>\n",
       "<table border=\"1\" class=\"dataframe\">\n",
       "  <thead>\n",
       "    <tr style=\"text-align: right;\">\n",
       "      <th></th>\n",
       "      <th>date</th>\n",
       "      <th>location_key</th>\n",
       "      <th>mobility_retail_and_recreation</th>\n",
       "      <th>mobility_grocery_and_pharmacy</th>\n",
       "      <th>mobility_parks</th>\n",
       "      <th>mobility_transit_stations</th>\n",
       "      <th>mobility_workplaces</th>\n",
       "      <th>mobility_residential</th>\n",
       "    </tr>\n",
       "  </thead>\n",
       "  <tbody>\n",
       "    <tr>\n",
       "      <th>0</th>\n",
       "      <td>2020-02-15</td>\n",
       "      <td>AE</td>\n",
       "      <td>0.0</td>\n",
       "      <td>4.0</td>\n",
       "      <td>5.0</td>\n",
       "      <td>0.0</td>\n",
       "      <td>2.0</td>\n",
       "      <td>1.0</td>\n",
       "    </tr>\n",
       "    <tr>\n",
       "      <th>1</th>\n",
       "      <td>2020-02-16</td>\n",
       "      <td>AE</td>\n",
       "      <td>1.0</td>\n",
       "      <td>4.0</td>\n",
       "      <td>4.0</td>\n",
       "      <td>1.0</td>\n",
       "      <td>2.0</td>\n",
       "      <td>1.0</td>\n",
       "    </tr>\n",
       "    <tr>\n",
       "      <th>2</th>\n",
       "      <td>2020-02-17</td>\n",
       "      <td>AE</td>\n",
       "      <td>-1.0</td>\n",
       "      <td>1.0</td>\n",
       "      <td>5.0</td>\n",
       "      <td>1.0</td>\n",
       "      <td>2.0</td>\n",
       "      <td>1.0</td>\n",
       "    </tr>\n",
       "    <tr>\n",
       "      <th>3</th>\n",
       "      <td>2020-02-18</td>\n",
       "      <td>AE</td>\n",
       "      <td>-2.0</td>\n",
       "      <td>1.0</td>\n",
       "      <td>5.0</td>\n",
       "      <td>0.0</td>\n",
       "      <td>2.0</td>\n",
       "      <td>1.0</td>\n",
       "    </tr>\n",
       "    <tr>\n",
       "      <th>4</th>\n",
       "      <td>2020-02-19</td>\n",
       "      <td>AE</td>\n",
       "      <td>-2.0</td>\n",
       "      <td>0.0</td>\n",
       "      <td>4.0</td>\n",
       "      <td>-1.0</td>\n",
       "      <td>2.0</td>\n",
       "      <td>1.0</td>\n",
       "    </tr>\n",
       "  </tbody>\n",
       "</table>\n",
       "</div>"
      ],
      "text/plain": [
       "         date location_key  mobility_retail_and_recreation  \\\n",
       "0  2020-02-15           AE                             0.0   \n",
       "1  2020-02-16           AE                             1.0   \n",
       "2  2020-02-17           AE                            -1.0   \n",
       "3  2020-02-18           AE                            -2.0   \n",
       "4  2020-02-19           AE                            -2.0   \n",
       "\n",
       "   mobility_grocery_and_pharmacy  mobility_parks  mobility_transit_stations  \\\n",
       "0                            4.0             5.0                        0.0   \n",
       "1                            4.0             4.0                        1.0   \n",
       "2                            1.0             5.0                        1.0   \n",
       "3                            1.0             5.0                        0.0   \n",
       "4                            0.0             4.0                       -1.0   \n",
       "\n",
       "   mobility_workplaces  mobility_residential  \n",
       "0                  2.0                   1.0  \n",
       "1                  2.0                   1.0  \n",
       "2                  2.0                   1.0  \n",
       "3                  2.0                   1.0  \n",
       "4                  2.0                   1.0  "
      ]
     },
     "execution_count": 10,
     "metadata": {},
     "output_type": "execute_result"
    }
   ],
   "source": [
    "df = pd.read_csv('data/mobility.csv')\n",
    "df.head()"
   ]
  },
  {
   "cell_type": "code",
   "execution_count": 13,
   "metadata": {},
   "outputs": [
    {
     "name": "stdout",
     "output_type": "stream",
     "text": [
      "Index(['date', 'location_key', 'mobility_retail_and_recreation',\n",
      "       'mobility_grocery_and_pharmacy', 'mobility_parks',\n",
      "       'mobility_transit_stations', 'mobility_workplaces',\n",
      "       'mobility_residential'],\n",
      "      dtype='object')\n"
     ]
    }
   ],
   "source": [
    "is_CA = df['location_key'].apply(lambda x: x.startswith('CA') if isinstance(x, str) else False)\n",
    "df_CA = df[is_CA]\n",
    "print(df_CA.columns)"
   ]
  },
  {
   "cell_type": "code",
   "execution_count": 14,
   "metadata": {},
   "outputs": [
    {
     "data": {
      "text/plain": [
       "array(['CA', 'CA_AB', 'CA_BC', 'CA_MB', 'CA_NB', 'CA_NL', 'CA_NS',\n",
       "       'CA_NT', 'CA_NU', 'CA_ON', 'CA_PE', 'CA_QC', 'CA_SK', 'CA_YT'],\n",
       "      dtype=object)"
      ]
     },
     "execution_count": 14,
     "metadata": {},
     "output_type": "execute_result"
    }
   ],
   "source": [
    "## only categroized by provinces, not subregions\n",
    "\n",
    "df_CA['location_key'].unique()"
   ]
  },
  {
   "cell_type": "code",
   "execution_count": null,
   "metadata": {},
   "outputs": [],
   "source": [
    "tmp.columns"
   ]
  },
  {
   "cell_type": "code",
   "execution_count": null,
   "metadata": {},
   "outputs": [],
   "source": [
    "# sanity check to check which columns have missing elements\n",
    "\n",
    "is_CA = df['location_key'].apply(lambda x: x.startswith('CA') if isinstance(x, str) else False)\n",
    "df_CA = df[is_CA]\n",
    "\n",
    "# loop through provinces\n",
    "for province in df_CA['location_key'].unique():\n",
    "    \n",
    "    # fetch provincial data\n",
    "    tmp = df_CA[df_CA['location_key'] == province]\n",
    "    \n",
    "    # loop through mobility metrics\n",
    "    for metric in tmp.columns:\n",
    "        # check if column has missing data\n",
    "        if tmp[metric].isnull().sum() == 0:   \n",
    "            continue\n",
    "        # print missing occurances\n",
    "        print(f\"{province}:{metric}: {tmp[metric].isnull().sum()} missing\")   "
   ]
  },
  {
   "cell_type": "code",
   "execution_count": null,
   "metadata": {},
   "outputs": [],
   "source": [
    "from sklearn.pipeline import Pipeline\n",
    "from sklearn.impute import KNNImputer\n",
    "from sklearn.preprocessing import StandardScaler\n",
    "\n",
    "## performs quite well; better to just stick to StandardScalar\n",
    "X = df_CA[df_CA['location_key'] == 'CA_ON'].iloc[:, 2:]\n",
    "\n",
    "pipe = Pipeline([('scaler', StandardScaler()),\n",
    "                 ('knn', KNNImputer(n_neighbors=5, weights=\"distance\"))])\n",
    "trans = pipe.fit_transform(X)\n",
    "\n",
    "plt.plot(trans)"
   ]
  },
  {
   "cell_type": "code",
   "execution_count": null,
   "metadata": {},
   "outputs": [],
   "source": []
  }
 ],
 "metadata": {
  "kernelspec": {
   "display_name": "Python [conda env:py39]",
   "language": "python",
   "name": "conda-env-py39-py"
  },
  "language_info": {
   "codemirror_mode": {
    "name": "ipython",
    "version": 3
   },
   "file_extension": ".py",
   "mimetype": "text/x-python",
   "name": "python",
   "nbconvert_exporter": "python",
   "pygments_lexer": "ipython3",
   "version": "3.9.10"
  }
 },
 "nbformat": 4,
 "nbformat_minor": 4
}
