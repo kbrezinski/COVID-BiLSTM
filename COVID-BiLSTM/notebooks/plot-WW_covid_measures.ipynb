{
 "cells": [
  {
   "cell_type": "code",
   "execution_count": 1,
   "metadata": {},
   "outputs": [
    {
     "name": "stdout",
     "output_type": "stream",
     "text": [
      "Author: Kenneth Brezinski\n",
      "\n",
      "Python implementation: CPython\n",
      "Python version       : 3.9.10\n",
      "IPython version      : 8.0.1\n",
      "\n"
     ]
    }
   ],
   "source": [
    "%load_ext autoreload\n",
    "%autoreload 2\n",
    "%load_ext watermark\n",
    "%watermark -a \"Kenneth Brezinski\" -v"
   ]
  },
  {
   "cell_type": "code",
   "execution_count": 2,
   "metadata": {},
   "outputs": [
    {
     "name": "stdout",
     "output_type": "stream",
     "text": [
      "matplotlib: 3.5.1\n",
      "numpy     : 1.22.2\n",
      "pandas    : 1.4.1\n",
      "\n"
     ]
    }
   ],
   "source": [
    "import numpy as np\n",
    "import pandas as pd\n",
    "\n",
    "import matplotlib.pyplot as plt\n",
    "%watermark --iversions"
   ]
  },
  {
   "cell_type": "markdown",
   "metadata": {},
   "source": [
    "**WW-site**\n",
    "- sampleTypeDefault (rawWW, NA or pstGrit after treatments headworks)\n",
    "- sampleCollectionDefault (TP time proportional; FP flow proportional)\n",
    "\n",
    "**WW-measure**\n",
    "- sampleID (locationID : date) \n",
    "- type (SARS-CoV-2 nucleocapsid gene N1 or N2; Pepper mild mottle virus)\n",
    "\n",
    "**WW-site_measure**\n",
    "- uSiteMeasureID (tss, flow, tmp, pH)\n",
    "\n",
    "**WW-polygon**\n",
    "- pop - population"
   ]
  },
  {
   "cell_type": "code",
   "execution_count": 11,
   "metadata": {},
   "outputs": [
    {
     "data": {
      "text/html": [
       "<div>\n",
       "<style scoped>\n",
       "    .dataframe tbody tr th:only-of-type {\n",
       "        vertical-align: middle;\n",
       "    }\n",
       "\n",
       "    .dataframe tbody tr th {\n",
       "        vertical-align: top;\n",
       "    }\n",
       "\n",
       "    .dataframe thead th {\n",
       "        text-align: right;\n",
       "    }\n",
       "</style>\n",
       "<table border=\"1\" class=\"dataframe\">\n",
       "  <thead>\n",
       "    <tr style=\"text-align: right;\">\n",
       "      <th></th>\n",
       "      <th>uWWMeasureID</th>\n",
       "      <th>reportDate</th>\n",
       "      <th>sampleID</th>\n",
       "      <th>type</th>\n",
       "      <th>value</th>\n",
       "      <th>unit</th>\n",
       "      <th>fractionAnalyzed</th>\n",
       "      <th>aggregation</th>\n",
       "      <th>qualityFlag</th>\n",
       "      <th>reporterID</th>\n",
       "      <th>...</th>\n",
       "      <th>accessToProvHA</th>\n",
       "      <th>accessToOtherProv</th>\n",
       "      <th>analysisDate</th>\n",
       "      <th>typeOther</th>\n",
       "      <th>unitOther</th>\n",
       "      <th>aggregationOther</th>\n",
       "      <th>index</th>\n",
       "      <th>accessToSelf</th>\n",
       "      <th>accessToDetails</th>\n",
       "      <th>notes</th>\n",
       "    </tr>\n",
       "  </thead>\n",
       "  <tbody>\n",
       "    <tr>\n",
       "      <th>0</th>\n",
       "      <td>covN1TAB</td>\n",
       "      <td>2021-04-09</td>\n",
       "      <td>TAB_20210401</td>\n",
       "      <td>covN1</td>\n",
       "      <td>52.530044</td>\n",
       "      <td>gcML</td>\n",
       "      <td>solid</td>\n",
       "      <td>mean</td>\n",
       "      <td>0</td>\n",
       "      <td>PHACCM</td>\n",
       "      <td>...</td>\n",
       "      <td>1</td>\n",
       "      <td>1</td>\n",
       "      <td>NaN</td>\n",
       "      <td>NaN</td>\n",
       "      <td>NaN</td>\n",
       "      <td>NaN</td>\n",
       "      <td>NaN</td>\n",
       "      <td>NaN</td>\n",
       "      <td>NaN</td>\n",
       "      <td>NaN</td>\n",
       "    </tr>\n",
       "    <tr>\n",
       "      <th>1</th>\n",
       "      <td>covN1TAB</td>\n",
       "      <td>2021-04-09</td>\n",
       "      <td>TAB_20210404</td>\n",
       "      <td>covN1</td>\n",
       "      <td>74.892574</td>\n",
       "      <td>gcML</td>\n",
       "      <td>solid</td>\n",
       "      <td>mean</td>\n",
       "      <td>0</td>\n",
       "      <td>PHACCM</td>\n",
       "      <td>...</td>\n",
       "      <td>1</td>\n",
       "      <td>1</td>\n",
       "      <td>NaN</td>\n",
       "      <td>NaN</td>\n",
       "      <td>NaN</td>\n",
       "      <td>NaN</td>\n",
       "      <td>NaN</td>\n",
       "      <td>NaN</td>\n",
       "      <td>NaN</td>\n",
       "      <td>NaN</td>\n",
       "    </tr>\n",
       "    <tr>\n",
       "      <th>2</th>\n",
       "      <td>covN1THC</td>\n",
       "      <td>2021-04-09</td>\n",
       "      <td>THC_20210401</td>\n",
       "      <td>covN1</td>\n",
       "      <td>141.213565</td>\n",
       "      <td>gcML</td>\n",
       "      <td>solid</td>\n",
       "      <td>mean</td>\n",
       "      <td>0</td>\n",
       "      <td>PHACCM</td>\n",
       "      <td>...</td>\n",
       "      <td>1</td>\n",
       "      <td>1</td>\n",
       "      <td>NaN</td>\n",
       "      <td>NaN</td>\n",
       "      <td>NaN</td>\n",
       "      <td>NaN</td>\n",
       "      <td>NaN</td>\n",
       "      <td>NaN</td>\n",
       "      <td>NaN</td>\n",
       "      <td>NaN</td>\n",
       "    </tr>\n",
       "    <tr>\n",
       "      <th>3</th>\n",
       "      <td>covN1THC</td>\n",
       "      <td>2021-04-09</td>\n",
       "      <td>THC_20210404</td>\n",
       "      <td>covN1</td>\n",
       "      <td>150.366354</td>\n",
       "      <td>gcML</td>\n",
       "      <td>solid</td>\n",
       "      <td>mean</td>\n",
       "      <td>0</td>\n",
       "      <td>PHACCM</td>\n",
       "      <td>...</td>\n",
       "      <td>1</td>\n",
       "      <td>1</td>\n",
       "      <td>NaN</td>\n",
       "      <td>NaN</td>\n",
       "      <td>NaN</td>\n",
       "      <td>NaN</td>\n",
       "      <td>NaN</td>\n",
       "      <td>NaN</td>\n",
       "      <td>NaN</td>\n",
       "      <td>NaN</td>\n",
       "    </tr>\n",
       "    <tr>\n",
       "      <th>4</th>\n",
       "      <td>covN1THU</td>\n",
       "      <td>2021-04-09</td>\n",
       "      <td>THU_20210401</td>\n",
       "      <td>covN1</td>\n",
       "      <td>53.621250</td>\n",
       "      <td>gcML</td>\n",
       "      <td>solid</td>\n",
       "      <td>mean</td>\n",
       "      <td>0</td>\n",
       "      <td>PHACCM</td>\n",
       "      <td>...</td>\n",
       "      <td>1</td>\n",
       "      <td>1</td>\n",
       "      <td>NaN</td>\n",
       "      <td>NaN</td>\n",
       "      <td>NaN</td>\n",
       "      <td>NaN</td>\n",
       "      <td>NaN</td>\n",
       "      <td>NaN</td>\n",
       "      <td>NaN</td>\n",
       "      <td>NaN</td>\n",
       "    </tr>\n",
       "  </tbody>\n",
       "</table>\n",
       "<p>5 rows × 27 columns</p>\n",
       "</div>"
      ],
      "text/plain": [
       "  uWWMeasureID  reportDate      sampleID   type       value  unit  \\\n",
       "0     covN1TAB  2021-04-09  TAB_20210401  covN1   52.530044  gcML   \n",
       "1     covN1TAB  2021-04-09  TAB_20210404  covN1   74.892574  gcML   \n",
       "2     covN1THC  2021-04-09  THC_20210401  covN1  141.213565  gcML   \n",
       "3     covN1THC  2021-04-09  THC_20210404  covN1  150.366354  gcML   \n",
       "4     covN1THU  2021-04-09  THU_20210401  covN1   53.621250  gcML   \n",
       "\n",
       "  fractionAnalyzed aggregation  qualityFlag reporterID  ... accessToProvHA  \\\n",
       "0            solid        mean            0     PHACCM  ...              1   \n",
       "1            solid        mean            0     PHACCM  ...              1   \n",
       "2            solid        mean            0     PHACCM  ...              1   \n",
       "3            solid        mean            0     PHACCM  ...              1   \n",
       "4            solid        mean            0     PHACCM  ...              1   \n",
       "\n",
       "  accessToOtherProv analysisDate  typeOther  unitOther  aggregationOther  \\\n",
       "0                 1          NaN        NaN        NaN               NaN   \n",
       "1                 1          NaN        NaN        NaN               NaN   \n",
       "2                 1          NaN        NaN        NaN               NaN   \n",
       "3                 1          NaN        NaN        NaN               NaN   \n",
       "4                 1          NaN        NaN        NaN               NaN   \n",
       "\n",
       "   index  accessToSelf  accessToDetails  notes  \n",
       "0    NaN           NaN              NaN    NaN  \n",
       "1    NaN           NaN              NaN    NaN  \n",
       "2    NaN           NaN              NaN    NaN  \n",
       "3    NaN           NaN              NaN    NaN  \n",
       "4    NaN           NaN              NaN    NaN  \n",
       "\n",
       "[5 rows x 27 columns]"
      ]
     },
     "execution_count": 11,
     "metadata": {},
     "output_type": "execute_result"
    }
   ],
   "source": [
    "df = pd.read_csv('data/WW-measure.csv')\n",
    "df.head()"
   ]
  },
  {
   "cell_type": "code",
   "execution_count": 12,
   "metadata": {},
   "outputs": [],
   "source": [
    "df['date'] = pd.to_datetime(df['sampleID'].apply(lambda d: d.split('_')[1])).rename('date')\n",
    "df = df.set_index('date')"
   ]
  },
  {
   "cell_type": "code",
   "execution_count": 13,
   "metadata": {},
   "outputs": [
    {
     "name": "stdout",
     "output_type": "stream",
     "text": [
      "['covN1' 'covN2' 'nPPMoV']\n",
      "['covN1TAB' 'covN1THC' 'covN1THU' 'covN1TNT' 'covN1EGB' 'covN1VAI'\n",
      " 'covN1VII' 'covN1VLG' 'covN1VLI' 'covN1VNL' 'covN1MMN' 'covN1MMS'\n",
      " 'covN1HDA' 'covN1HHA' 'covN1HMC' 'covN2TAB' 'covN2THC' 'covN2THU'\n",
      " 'covN2TNT' 'covN2EGB' 'covN2VAI' 'covN2VII' 'covN2VLG' 'covN2VLI'\n",
      " 'covN2VNL' 'covN2MMN' 'covN2MMS' 'covN2HDA' 'covN2HHA' 'covN2HMC'\n",
      " 'PPMoVTAB' 'PPMoVTHC' 'PPMoVTHU' 'PPMoVTNT' 'PPMoVEGB' 'PPMoVVAI'\n",
      " 'PPMoVVII' 'PPMoVVLG' 'PPMoVVLI' 'PPMoVVNL' 'PPMoVMMN' 'PPMoVMMS'\n",
      " 'PPMoVHDA' 'PPMoVHHA' 'PPMoVHMC']\n",
      "['gcML']\n"
     ]
    }
   ],
   "source": [
    "print(df['type'].unique())\n",
    "print(df['uWWMeasureID'].unique())\n",
    "print(df['unit'].unique())"
   ]
  },
  {
   "cell_type": "code",
   "execution_count": 23,
   "metadata": {},
   "outputs": [],
   "source": [
    "# select location\n",
    "df2 = df[df['uWWMeasureID'].apply(lambda c: c.endswith('TAB'))]\n",
    "\n",
    "# pivot table\n",
    "df2 = df2.pivot_table('value', ['date'], 'uWWMeasureID')"
   ]
  },
  {
   "cell_type": "code",
   "execution_count": 40,
   "metadata": {},
   "outputs": [
    {
     "data": {
      "text/plain": [
       "Text(0, 0.5, 'nPPMoV (gcML)')"
      ]
     },
     "execution_count": 40,
     "metadata": {},
     "output_type": "execute_result"
    },
    {
     "data": {
      "image/png": "[encoded data removed]",
      "text/plain": [
       "<Figure size 432x288 with 2 Axes>"
      ]
     },
     "metadata": {
      "needs_background": "light"
     },
     "output_type": "display_data"
    }
   ],
   "source": [
    "fig, ax1 = plt.subplots()\n",
    "ax2 = ax1.twinx()\n",
    "\n",
    "    \n",
    "for i, col in enumerate(df2.columns):\n",
    "    if i == 0:\n",
    "        ax2.plot(df2[col], '--r')\n",
    "    else:\n",
    "        ax1.plot(df2[col])\n",
    "        \n",
    "plt.xticks(rotation=70)\n",
    "ax1.set_ylabel('covN1/N2 (gcML)')\n",
    "ax2.set_ylabel('nPPMoV (gcML)')"
   ]
  },
  {
   "cell_type": "code",
   "execution_count": null,
   "metadata": {},
   "outputs": [],
   "source": [
    "## N1, N2 and PPMV are sequential\n",
    "#df2 = df[df['uWWMeasureID'].apply(lambda ch: 'N2TAB' in ch)]\n",
    "\n",
    "df[df['uWWMeasureID'] == 'covN1TAB']['value'].plot()\n",
    "df[df['uWWMeasureID'] == 'covN2TAB']['value'].plot()\n",
    "df[df['uWWMeasureID'] == 'PPMoVTAB']['value'].apply(lambda i: i / 1000.).plot()"
   ]
  },
  {
   "cell_type": "code",
   "execution_count": null,
   "metadata": {},
   "outputs": [],
   "source": [
    "df[df['uWWMeasureID'].apply(lambda ch: 'TAB' in ch)]"
   ]
  },
  {
   "cell_type": "code",
   "execution_count": null,
   "metadata": {},
   "outputs": [],
   "source": []
  }
 ],
 "metadata": {
  "kernelspec": {
   "display_name": "Python [conda env:py39]",
   "language": "python",
   "name": "conda-env-py39-py"
  },
  "language_info": {
   "codemirror_mode": {
    "name": "ipython",
    "version": 3
   },
   "file_extension": ".py",
   "mimetype": "text/x-python",
   "name": "python",
   "nbconvert_exporter": "python",
   "pygments_lexer": "ipython3",
   "version": "3.9.10"
  }
 },
 "nbformat": 4,
 "nbformat_minor": 4
}
